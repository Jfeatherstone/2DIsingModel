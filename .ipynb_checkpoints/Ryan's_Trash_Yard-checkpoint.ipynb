{
 "cells": [
  {
   "cell_type": "code",
   "execution_count": 1,
   "metadata": {
    "id": "BF9cClPmqGSZ"
   },
   "outputs": [],
   "source": [
    "import numpy as np\n",
    "import matplotlib.pyplot as plt\n",
    "import Ising\n",
    "\n",
    "def Mag(map):\n",
    "    N = len(map)\n",
    "    return (np.sum(map))/(N**2)\n",
    "\n",
    "def Sus(N,T,size,iterations):\n",
    "    Mlist = np.zeros(size)\n",
    "\n",
    "    for i in range(size):\n",
    "        isingMap = Ising.initializeHot(N)\n",
    "\n",
    "        for j in range(iterations):\n",
    "            Ising.singleClusterFlip(isingMap,(1/T))\n",
    "\n",
    "        Mlist[i] = Mag(copymap)\n",
    "  \n",
    "    Mlist = np.absolute(Mlist)\n",
    "    M2list = Mlist**2\n",
    "\n",
    "    return np.average(M2list) - (np.average(Mlist)**2)\n",
    "\n",
    "def tmax(intmap,Tmin,Tmax,Tnum,Tc,size,iterations):\n",
    "    def t_ify(T):\n",
    "        return (T - Tc)/Tc\n",
    "    tmin = t_ify(Tmin)\n",
    "    trmax = t_ify(Tmax)\n",
    "    tlist = np.linspace(tmin,trmax,Tnum)\n",
    "    Suslist = np.zeros_like(tlist)\n",
    "\n",
    "    for i in range(len(tlist)):\n",
    "        Suslist[i] = Sus(intmap,(tlist[i]),size,iterations)\n",
    "  \n",
    "    ind = np.argmax(Suslist)\n",
    "\n",
    "    return tlist[ind],tlist,Suslist"
   ]
  },
  {
   "cell_type": "code",
   "execution_count": 2,
   "metadata": {
    "colab": {
     "base_uri": "https://localhost:8080/",
     "height": 528
    },
    "id": "OG9t_jlo9k9f",
    "outputId": "4a3ee4a8-0e95-4925-f7e0-cfef99e2af91"
   },
   "outputs": [
    {
     "name": "stdout",
     "output_type": "stream",
     "text": [
      "1.323232323232323\n"
     ]
    },
    {
     "data": {
      "text/plain": [
       "<matplotlib.lines.Line2D at 0x7ff57d5cbd60>"
      ]
     },
     "execution_count": 2,
     "metadata": {},
     "output_type": "execute_result"
    },
    {
     "data": {
      "image/png": "[encoded data removed]",
      "text/plain": [
       "<Figure size 576x576 with 1 Axes>"
      ]
     },
     "metadata": {
      "needs_background": "light"
     },
     "output_type": "display_data"
    }
   ],
   "source": [
    "map = np.ones((10,10))\n",
    "test = tmax(map,0,10,100,3,5,1000)\n",
    "print(test[0])\n",
    "#print(test[1])\n",
    "#print(test[2])\n",
    "\n",
    "fig,ax = plt.subplots(1,1,figsize=(8,8))\n",
    "ax.plot(test[1],test[2],'ko')\n",
    "ax.axvline(test[0])"
   ]
  },
  {
   "cell_type": "code",
   "execution_count": null,
   "metadata": {},
   "outputs": [],
   "source": []
  }
 ],
 "metadata": {
  "colab": {
   "name": "Ryan's Trash Yard.ipynb",
   "provenance": []
  },
  "kernelspec": {
   "display_name": "Python 3",
   "language": "python",
   "name": "python3"
  },
  "language_info": {
   "codemirror_mode": {
    "name": "ipython",
    "version": 3
   },
   "file_extension": ".py",
   "mimetype": "text/x-python",
   "name": "python",
   "nbconvert_exporter": "python",
   "pygments_lexer": "ipython3",
   "version": "3.8.5"
  }
 },
 "nbformat": 4,
 "nbformat_minor": 4
}
